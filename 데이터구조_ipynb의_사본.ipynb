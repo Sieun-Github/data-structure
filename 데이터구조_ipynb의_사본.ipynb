{
  "nbformat": 4,
  "nbformat_minor": 0,
  "metadata": {
    "colab": {
      "provenance": [],
      "toc_visible": true,
      "authorship_tag": "ABX9TyPq3cDBwv/cbRF/D1yXzL+v",
      "include_colab_link": true
    },
    "kernelspec": {
      "name": "python3",
      "display_name": "Python 3"
    },
    "language_info": {
      "name": "python"
    }
  },
  "cells": [
    {
      "cell_type": "markdown",
      "metadata": {
        "id": "view-in-github",
        "colab_type": "text"
      },
      "source": [
        "<a href=\"https://colab.research.google.com/github/haediri/data-structure/blob/main/%EB%8D%B0%EC%9D%B4%ED%84%B0%EA%B5%AC%EC%A1%B0_ipynb%EC%9D%98_%EC%82%AC%EB%B3%B8.ipynb\" target=\"_parent\"><img src=\"https://colab.research.google.com/assets/colab-badge.svg\" alt=\"Open In Colab\"/></a>"
      ]
    },
    {
      "cell_type": "markdown",
      "source": [
        "데이터구조 [02]\n",
        "\n",
        "학번 : 1930950\n",
        "\n",
        "이름 : 최시은"
      ],
      "metadata": {
        "id": "Kg3bFzh6cLeG"
      }
    },
    {
      "cell_type": "markdown",
      "source": [
        "# 온라인 강의 플랫폼 구축하기\n",
        "\n",
        "\n",
        "*   프로젝트 목표 : 다양한 종류의 온라인 강의를 비교 및 분석이 가능한 Online Course Platform(OCP)를 구축하고자 한다.\n",
        "*   프로젝트 개요 : OCP플랫폼은 KMOOC(Korea Open Online Course), Coursera, MIT OnlineCourseWare(OCW) 등과 같은 강의 플랫폼으로부터 강의를 수집 및 분석하는 시스템이다. 예로, KMOOC 플랫폼은 무료로 누구에게나 온라인 강의를 제공하는 한국형 온라인 강의 플랫폼이다. 우리의 OCP플랫폼은 그림 1과 같이 4개의 컴포넌트로 구성된다.\n",
        "\n",
        "   1. 인메모리 데이터를 패브릭(In-Memory Data Fabric)는 하나의 데이터 모델(Lecture Class 기반 데이터 모델)을 통해 강의 데이터를 관리하는 다양한 종류의 데이터 구조를 제공하는 컴포넌트이다. 예로, List-, Map-, Tree-, Hash Table-기반 데이터 구조 등을 지원한다.\n",
        "   2. 강의 데이터 조작(Lecture Data Manipulation)은 대응되는 데이터 구조에 따라 강의 데이터를 검색, 정렬, 추가, 그리고 삭제가 가능한 컴포넌트이다.\n",
        "  3. 온라인 강의 추천(Lecture Recommendation)은 강의 데이터 조작 모듈과 함께 적절한 강의 데이터를 추천하는 컴포넌트이다.\n",
        "   4. 성능 모니터(Performance Monitor)는 OCP 플랫폼에서 동작하는 컴포넌트의 성능을 수행시간 측면에서 모니터링하고 가장 성능이 좋은 알고리즘을 확인한다.\n",
        "\n",
        "\n",
        "\n",
        "\n",
        "\n",
        "\n",
        "\n",
        "\n"
      ],
      "metadata": {
        "id": "qSQP64p-EkuT"
      }
    },
    {
      "cell_type": "markdown",
      "source": [
        "## H/W#1: 추상화 및 고급 클래스 만들기\n",
        "\n",
        "\n",
        "*   OCP Class, Lecture Class, IMDF Class, LDM Class, LR Class, 그리고 PM Class의 ADT를 설계하시오.\n",
        "*   OCP Class는 IMDF, LDM, LR, PM의 클래스의 인스턴스를 포함한다. 4개의 클래스는 Methods와 Variables이 명확하게 지정되지 않았으나, 생성자는 필요하다.\n",
        "*   Lecture Class는 OCP 플랫폼 내부의 정보교환을 위한 기본 데이터 모델이다. 그림2를 참고하여, 학생들은 ADT Class를 완성하시기 바랍니다. Class 설계 시, 학생들은 Variable names을 그림 2의 대응되는 항목명(영문)의 값과 일치되도록 작성해야만 합니다. 선언된 Variable은 항목명에 대한 주석이 꼭 필요합니다. 예) blocks_url #  강좌 URL"
      ],
      "metadata": {
        "id": "y5S1PgPBRuIi"
      }
    },
    {
      "cell_type": "code",
      "source": [
        "class OCP:\n",
        "  def __init__(self): # 생성자\n",
        "    self.lec_IMDF = IMDF()\n",
        "    self.lec_LDM = LDM()\n",
        "    self.lec_LR = LR()\n",
        "    self.lec_PM = PM()\n",
        "\n",
        "  # 강의 수집\n",
        "  def collect_lectures(self, platform=\"KMOOC\"):\n",
        "    # platform : 수집하고자 하는 강의 플랫폼\n",
        "    pass\n",
        "\n",
        "  # 강의 자료 저장\n",
        "  def _store_lectures(self, lectures):\n",
        "    # lectures : 강의 데이터 (리스트 타입)\n",
        "    pass"
      ],
      "metadata": {
        "id": "RO3hFXBuCyUG"
      },
      "execution_count": null,
      "outputs": []
    },
    {
      "cell_type": "code",
      "source": [
        "class Lecture:\n",
        "  # __init__메소드는 생성자(Constructor) 메소드\n",
        "  def __init__(self,data,id, name, blocks_url,next=None):\n",
        "    self.data = data # 각 강좌별 데이터\n",
        "    self.id = id # 강좌 아이디\n",
        "    self.name = name # 강좌명\n",
        "    self.blocks_url = blocks_url # 강좌 url\n",
        "    self.next = next\n",
        "\n",
        " # __str__메소드는 객체를 문자열로 표현한 것을 반환해줌\n",
        "  def __str__(self):\n",
        "    return f\"id:{self.id}\\nname:{self.name}\\nblocks_url:{self.blocks_url}\""
      ],
      "metadata": {
        "id": "W1nzfsO5g_-L"
      },
      "execution_count": null,
      "outputs": []
    },
    {
      "cell_type": "code",
      "source": [
        "  # 샘플데이터를 사용한 인스턴스 생성\n",
        "  lecture1 = Lecture(1,\"course-v1:FUNMOOC+test1+test1\",\n",
        "                     \"강좌생성테스트\",\n",
        "                     \"http://www.kmooc.kr/api/courses/v1/blocks/?course_id=course-v1%3AFUNMOOC%2Btest1%2Btest1\")\n",
        "  print(lecture1)"
      ],
      "metadata": {
        "id": "1s5ZaOSvcxCC",
        "colab": {
          "base_uri": "https://localhost:8080/"
        },
        "outputId": "a2630952-cda7-48c7-a3da-e764284d8287"
      },
      "execution_count": null,
      "outputs": [
        {
          "output_type": "stream",
          "name": "stdout",
          "text": [
            "id:course-v1:FUNMOOC+test1+test1\n",
            "name:강좌생성테스트\n",
            "blocks_url:http://www.kmooc.kr/api/courses/v1/blocks/?course_id=course-v1%3AFUNMOOC%2Btest1%2Btest1\n"
          ]
        }
      ]
    },
    {
      "cell_type": "markdown",
      "source": [
        "## H/W#2: 고급 정렬 및 고급 탐색\n",
        "\n",
        "\n",
        "*   각 강좌(Lecture class)를 다음 그림과 같이 Single Linked List(SLL) 기반 노드로 구현하시오. 그림 3에서 data는 각 강좌별 데이터를 의미한다. 또한 id, name, url은 강좌아이디, 강좌별 데이터의 강좌명, 강좌URL이다. Next는 다음 노드에 대한 link를 의미한다. (기존의 Lecture class를 구현하였다면, link만 추가하면 된다)\n",
        "*   IMDF 클래스는 다수의 강좌를 포함하는 데이터 컨테이너를 가지고, 강좌의 시작을 가리키는 head reference를 갖는다. 따라서, head reference를 통해 첫번째 강좌를 가져올 수 있다.\n",
        "*   LDM 클래스는 강좌 데이터에 대한 추가, 검색, 삭제가 가능해야 한다.\n",
        "  1.   추가: json 파일을 읽어 IMDF 클래스의 인스턴스에 저장하는 store_lectures_from_json함수를 가진다. store_lectures_from_json 함수는 json파일 이름과 저장 유형(예로, SLL)을 입력으로 받아 연관된 데이터 컨테이너에 따라 강좌를 저장한다.(이때, 강좌는 최근 입력된 순서로 저장되어야 한다)\n",
        "  2.   검색: SLL기반 IMDF 내 강좌로부터 특정 속성과 그에 대한 값을 검색 함수를 작성하시오. 예로, 강좌명 = '우리말 형태론', 강좌 URL = 'https://...'\n",
        "  3.   삭제: SLL기반 IMDF 내 강좌로부터 특정 강좌명을 삭제하는 함수를 작성하시오\n",
        "*   OCP는 LDM과 함께 데이터 추가 및 검색, 삭제의 예제로써 loads(filename), search(attribute, target), delete(target) 함수를 갖는다. 예로, loads는 LDM의 store_lectures_from_json를 내부적으로(internally) 호출한다."
      ],
      "metadata": {
        "id": "Go1JiWB8tNhi"
      }
    },
    {
      "cell_type": "code",
      "source": [
        "from google.colab import drive\n",
        "drive.mount('/content/drive')\n",
        "\n",
        "import json\n",
        "\n",
        "file_path = \"/content/drive/MyDrive/Notebooks/lectures (1).json\"\n",
        "\n",
        "with open(file_path, 'r', encoding=\"UTF-8\") as file:\n",
        "    data = json.load(file)\n",
        "    # id = list(i['id'] for i in json_data)\n",
        "    # print(id)\n",
        "    # name = list(i['name'] for i in json_data)\n",
        "    # print(name)\n",
        "    # blocks_url = list(i['blocks_url'] for i in json_data)\n",
        "    # print(blocks_url)"
      ],
      "metadata": {
        "colab": {
          "base_uri": "https://localhost:8080/"
        },
        "id": "MN_VR8Y7jMOe",
        "outputId": "d423d46e-1091-4a1c-d1fb-863f9b2b367a"
      },
      "execution_count": null,
      "outputs": [
        {
          "output_type": "stream",
          "name": "stdout",
          "text": [
            "Drive already mounted at /content/drive; to attempt to forcibly remount, call drive.mount(\"/content/drive\", force_remount=True).\n",
            "['course-v1:ANU+ANU01+2020_T3', 'course-v1:ANU+ANU2021+2021_T01', 'course-v1:ANU+anu_01+2019_T1_2', 'course-v1:ARKO+ARKOCD01+2021-T1', 'course-v1:AYUk+AYUK+2020_T2', 'course-v1:AYUk+AYUK_DJ+2021_T2', 'course-v1:AYUk+AYUK_DJ+2022_T1', 'course-v1:AYUk+AYUk_EM_01+2021_T2', 'course-v1:AYUk+AYUK_IP_0+2021_T2_1', 'course-v1:AYUk+AYUK_IP_0+2022_T1', 'course-v1:AYUk+AYUK_IP_01+2020_T2', 'course-v1:AYUk+FD_AYUk_01+2019_T2', 'course-v1:BDUk+BDU01+2021_T2', 'course-v1:BDUk+BDU01+2022_T1', 'course-v1:BDUk+BDU02+2021_T2', 'course-v1:BDUk+BDU02+2022_T1', 'course-v1:BDUk+BDU03+2018_T1', 'course-v1:BDUk+BDU03+2021_T2', 'course-v1:BDUk+BDU03+2022_T1', 'course-v1:BDUk+BDU04+2021_T2', 'course-v1:BDUk+BDU04+2022_T1', 'course-v1:BDUk+BDU05+2021_T2', 'course-v1:BDUk+BDU05+2022_T1', 'course-v1:BDUk+BDU06+2021_T2', 'course-v1:BDUk+BDU06+2022_T1', 'course-v1:BDUk+BDU07+2021_T2', 'course-v1:BDUk+BDU07+2022_T1', 'course-v1:BDUk+BDU08+2021_T3', 'course-v1:BDUk+BDU08+2022_T1', 'course-v1:BDUk+BDU09+2021_T3', 'course-v1:BDUk+BDU09+2022_T1', 'course-v1:BDUk+BDU10+2021_T1', 'course-v1:BDUk+BDU10+2022_T1', 'course-v1:BDUk+BDU11+2021_T1', 'course-v1:BDUk+BDU11+2022_T1', 'course-v1:BDUk+BDU12+2021_T1', 'course-v1:BDUk+BDU12+2022_T1', 'course-v1:BDUk+BDU13+2021_T1', 'course-v1:BDUk+BDU13+2022_T1', 'course-v1:BDUk+BDU14+2021_T1', 'course-v1:BDUk+BDU14+2022_T1', 'course-v1:BUFSk+BUFSkCOBUFS02+2019R1', 'course-v1:BUFSk+BUFS_ICFL01+2021_T2', 'course-v1:BUFSk+BUFS_ICFL01+2022_T1', 'course-v1:BUFSk+BUFS_ICFL02+2021_T2', 'course-v1:BUFSk+BUFS_ICFL02+2022_T1', 'course-v1:BUFSk+BUFS_ICFL03+2021_T2', 'course-v1:BUFSk+BUFS_ICFL03+2022_T1', 'course-v1:BUFSk+BUFS_ICFL04+2021_T2', 'course-v1:BUFSk+BUFS_ICFL04+2022_T1', 'course-v1:BUFSk+BUFS_ICFL05+2021_T2', 'course-v1:BUFSk+BUFS_ICFL05+2022_T1', 'course-v1:BUFSk+BUFS_ICFL06+2021_T2', 'course-v1:BUFSk+BUFS_ICFL06+2022_T1', 'course-v1:BUFSk+BUFS_ICFL07+2021_T2', 'course-v1:BUFSk+BUFS_ICFL07+2022_T1', 'course-v1:BUFSk+BUFS_ICFL08+2021_T2', 'course-v1:BUFSk+BUFS_ICFL08+2022_T1', 'course-v1:BUFSk+BUFS_ICFL09+2021_T2', 'course-v1:BUFSk+BUFS_ICFL09+2022_T1', 'course-v1:BUFSk+CK.BUFS01+2016_JAPAN1', 'course-v1:BUFSk+COBUFS03+2019CM1', 'course-v1:BUFSk+CORE_BUFS01+2018_C1', 'course-v1:BUFSk+KOCW_BUFS01+2018_HR1', 'course-v1:BUK+BUK001+2021_T2_02', 'course-v1:BUK+BUK002+2021_T2_01', 'course-v1:BUK+BUK002+2022_T1_01', 'course-v1:BUK+BUK003+2021_T2_01', 'course-v1:BUK+BUK003+2022_T1_01', 'course-v1:BUK+BUK004+2021_T2_01', 'course-v1:BUK+BUK005+2021_T2_01', 'course-v1:BUK+BUK006+2021_T2_01', 'course-v1:BUK+BUK007+2021_T2_01', 'course-v1:CAUk+ACE_CAU01+2020_1', 'course-v1:CAUk+ACE_CAU02_01+2020_1', 'course-v1:CAUk+ACE_CAU02_02+2020_1', 'course-v1:CAUk+CAU01K+2021_1', 'course-v1:CAUk+CAU02K+2021_1', 'course-v1:CAUk+CAU05K+2021_1', 'course-v1:CAUk+CAU06K+2021_1', 'course-v1:CAUk+CAU07K+2021_1', 'course-v1:CAUk+CAU08K+2021_2', 'course-v1:CAUk+CAU09K+2021_2', 'course-v1:CAUk+CAU10K+2021_2', 'course-v1:CAUk+CAU12K+2021_2', 'course-v1:CAUk+CAU12K+2022_1', 'course-v1:CAUk+CAU13K+2021_1', 'course-v1:CAUk+CAU14K+2021_1', 'course-v1:CAUk+CAU15K+2021_1', 'course-v1:CAUk+CAU16K+2021_1', 'course-v1:CAUk+CAU_11K+2021_2', 'course-v1:CAUk+CAU_11K+2022_1', 'course-v1:CAUk+CAU_A01+2021_2', 'course-v1:CAUk+CAU_A01+2022_1', 'course-v1:CAUk+CAU_A02+2021_2', 'course-v1:CAUk+CAU_A02+2022_1', 'course-v1:CAUk+CAU_A04+2021_2', 'course-v1:CAUk+CAU_A04+2022_1', 'course-v1:CAUk+CAU_AI03+2021_2', 'course-v1:CAUk+CAU_AI03+2022_1', 'course-v1:CAUk+CAU_micro01+2021_2', 'course-v1:CAUk+CAU_micro01+2022-1', 'course-v1:CAUk+CAU_micro01+2022_1', 'course-v1:CAUk+CAU_micro02+2022_1', 'course-v1:CAUk+CAU_micro02+CAU_micro03', 'course-v1:CAUk+FD_CAU03K+2021_1', 'course-v1:CAUk+FD_CAU04K+2021_1', 'course-v1:CBNUk+CBNU01k+2020_2', 'course-v1:CBNUk+CBNU02k+2020_2', 'course-v1:CBNUk+CBNU03k+2020_2', 'course-v1:CBNUk+CBNU04k+2020_2', 'course-v1:CBNUk+CBNU05k+2020_2', 'course-v1:CBNUk+CBNU06k+2020_2', 'course-v1:CBNUk+CBNU07k+2020_2', 'course-v1:CBNUk+CBNU08k+2020_2', 'course-v1:CBNUk+CBNU09k+2020_2', 'course-v1:CBNUk+CBNU10k+2020_2', 'course-v1:CBNUk+CBNU11k+2020_2', 'course-v1:CBNUk+CBNU12k+2020_2', 'course-v1:CBNUk+CBNUKF_01+2020_T1', 'course-v1:CCHS+CCHS01+2021_01', 'course-v1:CCHS+CCHS01+2021_02', 'course-v1:ChosunK+ACE_Chosun01K+2020_2', 'course-v1:ChosunK+Chosun02K+2020_2', 'course-v1:ChosunK+Chosun03K+2021_2', 'course-v1:ChosunK+Chosun03K+2022_1', 'course-v1:ChosunK+Chosun04K+2021_2', 'course-v1:ChosunK+Chosun04K+2022_1', 'course-v1:ChosunK+Chosun05K+2021_2', 'course-v1:ChosunK+Chosun05K+2022_1', 'course-v1:ChosunK+Chosun06K+2020_T2', 'course-v1:ChosunK+Chosun06K+2021_2', 'course-v1:ChosunK+Chosun06K+2022_1', 'course-v1:ChosunK+Chosun07K+2020_T2', 'course-v1:ChosunK+Chosun07K+2021_2', 'course-v1:ChosunK+Chosun07K+2022_1', 'course-v1:ChosunK+Chosun08K+2021_2', 'course-v1:ChosunK+Chosun08K+2022_1', 'course-v1:ChosunK+Chosun09K+2021_2', 'course-v1:ChosunK+Chosun09K+2022_1', 'course-v1:ChosunK+Chosun10K+2021_2', 'course-v1:ChosunK+Chosun10K+2022_1', 'course-v1:ChosunK+Chosun11K+2021_T2', 'course-v1:ChosunK+Chosun12K+2021_T2', 'course-v1:ChosunK+Chosun13K+2021_T2', 'course-v1:ChosunK+Chosun14K+2021_T2', 'course-v1:ChosunK+Chosun15K+2021_T2', 'course-v1:ChosunK+Chosun16K+2021_T2', 'course-v1:ChungbukK+Chungbuk_03+2019_06', 'course-v1:ChungbukK+Chungbuk_03+2021_09', 'course-v1:ChungbukK+Chungbuk_03+2022_01', 'course-v1:ChungbukK+Chungbuk_04+2021_10', 'course-v1:ChungbukK+Chungbuk_04+2022_01', 'course-v1:ChungbukK+Chungbuk_05+2021_11', 'course-v1:ChungbukK+Chungbuk_05+2022_01', 'course-v1:ChungbukK+Chungbuk_06+2021_12', 'course-v1:ChungbukK+Chungbuk_06+2022_01', 'course-v1:ChungbukK+Chungbuk_07+2021_13', 'course-v1:ChungbukK+Chungbuk_07+2022_01', 'course-v1:ChungbukK+Chungbuk_08+2021_14', 'course-v1:ChungbukK+Chungbuk_09+2021_15', 'course-v1:ChungbukK+CK_Chungbuk_01+2021_07', 'course-v1:ChungbukK+CK_Chungbuk_01+2022_01', 'course-v1:ChungbukK+CK_Chungbuk_02+2021_08', 'course-v1:ChungbukK+CK_Chungbuk_02+2022_01', 'course-v1:CKUk+CORE_CKU01k+2019_T1', 'course-v1:CKUk+CORE_CKU02k+2020_T1', 'course-v1:CKUk+CORE_CKU03k+2020_T1', 'course-v1:CNUk+ACE_CNU01+2020_3_01', 'course-v1:CNUk+ACE_CNU01+2021_2_01', 'course-v1:CNUk+ACE_CNU01+2022_1_01', 'course-v1:CNUk+ACE_CNU02+2020_1_02', 'course-v1:CNUk+ACE_CNU05+2021_2_05', 'course-v1:CNUk+ACE_CNU05+2022_1_05', 'course-v1:CNUk+ACE_CNU06+2021_2_06', 'course-v1:CNUk+ACE_CNU06+2022_1_06', 'course-v1:CNUk+CORE_CNU03+2021_2_03', 'course-v1:CNUk+CORE_CNU03+2022_1_03', 'course-v1:CNUk+CORE_CNU04+2021_2_04', 'course-v1:CNUk+CORE_CNU04+2022_1_04', 'course-v1:CNUk+MOE_CNU07+2021_2_07', 'course-v1:CNUk+MOE_CNU07+2022_1_07', 'course-v1:CNUk+MOE_CNU08+2021_2_08', 'course-v1:CNUk+MOE_CNU08+2022_1_08', 'course-v1:CNUk+MOE_CNU09+2021_2_09', 'course-v1:CNUk+MOE_CNU09+2022_1_09', 'course-v1:CNUk+MOE_CNU10+2021_2_10', 'course-v1:CNUk+MOE_CNU10+2022_1_10', 'course-v1:CNUk+MOE_CNU11+2021_2_11', 'course-v1:CNUk+MOE_CNU11+2022_1_11', 'course-v1:CNUk+MOE_CNU12+2021_2_12', 'course-v1:CNUk+MOE_CNU12+2022_1_12', 'course-v1:CNUk+MOE_CNU13+2021_2_13', 'course-v1:CNUk+MOE_CNU13+2022_1_13', 'course-v1:CNUk+MOE_CNU14+2021_2_14', 'course-v1:CNUk+MOE_CNU14+2022_1_14', 'course-v1:CUFS+CUFS01+2020_2', 'course-v1:CUFS+CUFS02+2021-2_C2', 'course-v1:CUFS+CUFS03+2021-2_C3', 'course-v1:CUFS+CUFS04+2021-2_C4']\n",
            "['정보통신 보안', '신화와 폭력', '우리말 형태론', '문화다양성 전문인력 양성 기본과정', '율곡 이이(李珥)의 철학으로 본 국가 경륜(經綸)과 리더십', '민족의 지성 다산 정약용의 삶과 철학', '민족의 지성 다산 정약용의 삶과 철학', '전기자기학', '5분 안에 톺아보는 ‘북한의 민족유산(문화재)’', '5분 안에 톺아보는 ‘북한의 민족유산(문화재)’', '인터넷 프로토콜', '강화도, 우리역사를 말하다', '자원봉사 시민교육을 말하다', '자원봉사 시민교육을 말하다', '내일, 내 일은 산업강사', '내일, 내 일은 산업강사', '도전, 정신건강사회복지사', '도전, 정신건강 사회복지사', '도전, 정신건강 사회복지사', '사회복지사를 위한 케어 매니지먼트', '사회복지사를 위한 케어 매니지먼트', \"베이비시터, '함께 키움'의 세상 만들다\", \"베이비시터, '함께 키움'의 세상 만들다\", '외식산업 인터넷 마케팅', '외식산업 인터넷 마케팅', '마음챙김으로 스트레스 다스리기', '마음챙김으로 스트레스 다스리기', '우리 아이를 위한 아동안전설명서', '우리 아이를 위한 아동안전설명서', '발달장애인과 함께 세상속으로', '발달장애인과 함께 세상속으로', '온라인 참여형 심리백신', '온라인 참여형 심리백신', '발달과 발달장애의 이해', '발달과 발달장애의 이해', '발달장애 자녀를 위한 상담기법', '발달장애 자녀를 위한 상담기법', '발달장애와 직업진로상담', '발달장애와 직업진로상담', '발달장애인 직업재활', '발달장애인 직업재활', '러시아의 역사와 문화', '현대 미얀마어 입문', '현대 미얀마어 입문', '태국어 문자 배우기', '태국어 문자 배우기', '태국어 문장 만들기', '태국어 문장 만들기', '초급 아랍어', '초급 아랍어', '기초 힌디어', '기초 힌디어', '베트남어 읽기 A2', '베트남어 읽기 A2', '크메르어 문자와 기초회화', '크메르어 문자와 기초회화', '인도네시아어 A1', '인도네시아어 A1', '터키어 읽기 A2', '터키어 읽기 A2', '일본어문법', '중국영화', '중국고전 명시의 이해와 낭송', '인적자원관리', '신비한 모래놀이치료의 세계', '내 안의 세상을 만나는 치유여행 -실존과 심리치료의 만남', '내 안의 세상을 만나는 치유여행 -실존과 심리치료의 만남', '언택트 시대의 눈건강 관리법', '언택트 시대의 눈건강 관리법', '아동상담: 놀이와 예술을 통한 어린이 마음치료 - 놀이･예술 기반 아동상담의 특성과 과정', '아동상담: 놀이와 예술을 통한 어린이 마음치료 - 놀이･예술 기반의 아동상담 기법과 활용', '아동상담: 놀이와 예술을 통한 어린이 마음치료 - 아동 문제의 이해와 놀이･예술 심리평가', '아동상담: 놀이와 예술을 통한 어린이 마음치료 - 아동의 증상에 따른 놀이･예술 기반 상담의 실제', '미래교육을 디자인한다', '내 안의 우주: 인체 구조와 기능 1', '내 안의 우주 : 인체 구조와 기능 2', '디지털 비즈니스와 보안관리', '4차산업혁명과 특허', '디지털 프라이버시와 거버넌스', '신제품 설계론', '4차산업혁명과 인재개발', '4차산업혁명과 산업보안법제도', '치매, 파킨스병, 뇌졸중 환자의 연하장애', '사진 이후의 사진', '신 한류 문화의 이해', '신 한류 문화의 이해', '건강한 삶: 건강한 몸과 병든 몸', '호모, 인간을 말하다', '영화로 이해하는 불안과 공포', '블록체인과 비즈니스 서비스', '지역사회 건강관리와 사회문제 해결', '지역사회 건강관리와 사회문제 해결', '신경망 네트워크와 수학적 기반', '신경망 네트워크와 수학적 기반', '딥러닝의 깊이 있는 이해를 위한 머신러닝', '딥러닝의 깊이 있는 이해를 위한 머신러닝', '인공지능 연구동향', '인공지능 연구동향', '금융 AI', '금융 AI', '세대간 소통을 위한 리더십', '세대간 소통을 위한 리더십', '세대간 소통을 위한 리더십', '크리에이터를 위한 글쓰기', '크리에이터를 위한 글쓰기', '뇌졸중의 재활치료 1', ' 뇌졸중의 재활치료2', '판소리Ⅰ: 자연을 노래한 한국의 소리', '한옥Ⅰ: 우리 한옥 이야기', '판소리Ⅱ: 소리길 순례', '한옥Ⅱ: 한옥 느끼기', 'K-Food : 한국인의 똑똑한 밥상', '호남지역의 역사와 문화', '행복론', '동양고전에서 얻은 삶의 지혜', '한국복식문화사', '우리 지역의 말과 문학', '동양사상의 이해', '생활원예', '공공외교와 한국', '몸, 숨, 맘 요가 (YBBM : Yoga for Body, Breath and Mind)', '몸, 숨, 맘 요가 (YBBM : Yoga for Body, Breath and Mind)', '문학사를 통해 본 인간상', '생활속의 응급처치', '신뢰성공학', '신뢰성공학', '공동주택 분쟁 이해', '공동주택 분쟁 이해', '일반화학 개념의 핵심', '일반화학 개념의 핵심', '[집콕]차이나 허스토리', '차이나 허스토리', '차이나 허스토리', '[집콕]한국근대사, 감춰진 이야기', '한국근대사, 감춰진 이야기', '한국근대사, 감춰진 이야기', '추리소설의 인문학적 탐구', '추리소설의 인문학적 탐구', '&lt;삼자경三字經&gt; 인문학  -세 글자로 읽는 중국문화-', '&lt;삼자경三字經&gt; 인문학  -세 글자로 읽는 중국문화-', '유튜브와 SNS에서 저작권', '유튜브와 SNS에서 저작권', '리부팅 인간 중심 과학', '사건과 스캔들로 보는 옛이야기', '손생님! 한국수어를 부탁해요-기초편(한국수어 기초회화)-', '손생님! 한국수어를 부탁해요-입문편(한국수어 중급회화)-', '손생님! 한국수어를 부탁해요-활용편(한국수어 활용)-', '손생님! 한국수어를 부탁해요-고급편(한국 수어의 문법)-', '다문화와 세계종교 기행', '다문화와 세계종교 기행', '다문화와 세계종교 기행', '숲으로 떠나는 건강여행', '숲으로 떠나는 건강여행', '우주로의 여행', '우주로의 여행', '한국 지형 여행', '한국 지형 여행', '불교가 묻고 내가 답한다', '불교가 묻고 내가 답한다', '로마 문화와 함께 배우는 교양 라틴어', '알기 쉬운 기업 살림살이', '시스템 사고와 창의', '시스템 사고와 창의', '국제개발협력의 이해', '국제개발협력의 이해', '한국의 유네스코 인류무형문화유산 : 축제와 신화', '논리와 사고', '인격과 로봇', '[집콕]심리학 START', '심리학 START', '심리학 START', '수사는 과학이다', '4차 산업혁명과 수학', '4차 산업혁명과 수학', '공존을 위한 창의적 설계', '공존을 위한 창의적 설계', '양명학, 돌봄과 공생의 길', '양명학, 돌봄과 공생의 길', '백제속의 동아시아', '백제속의 동아시아', '인구학 입문', '인구학 입문', '영상예술시대의 희곡론', '영상예술시대의 희곡론', '유네스코 세계문화유산 탐방', '유네스코 세계문화유산 탐방', '케이팝(K-pop) 문화의 이해', '케이팝(K-pop) 문화의 이해', '실무 행정법', '실무 행정법', '인공지능 활용 바이오 기술 플랫폼', '인공지능 활용 바이오 기술 플랫폼', '사회적 가치와 개인의 자유', '사회적 가치와 개인의 자유', '영상시와 콘텐츠 제작', '영상시와 콘텐츠 제작', '바로 쓰는 판매외국어', '컨벤션영어 필기', '컨벤션 산업론', '호텔관광실무론']\n",
            "['http://www.kmooc.kr/api/courses/v1/blocks/?course_id=course-v1%3AANU%2BANU01%2B2020_T3', 'http://www.kmooc.kr/api/courses/v1/blocks/?course_id=course-v1%3AANU%2BANU2021%2B2021_T01', 'http://www.kmooc.kr/api/courses/v1/blocks/?course_id=course-v1%3AANU%2Banu_01%2B2019_T1_2', 'http://www.kmooc.kr/api/courses/v1/blocks/?course_id=course-v1%3AARKO%2BARKOCD01%2B2021-T1', 'http://www.kmooc.kr/api/courses/v1/blocks/?course_id=course-v1%3AAYUk%2BAYUK%2B2020_T2', 'http://www.kmooc.kr/api/courses/v1/blocks/?course_id=course-v1%3AAYUk%2BAYUK_DJ%2B2021_T2', 'http://www.kmooc.kr/api/courses/v1/blocks/?course_id=course-v1%3AAYUk%2BAYUK_DJ%2B2022_T1', 'http://www.kmooc.kr/api/courses/v1/blocks/?course_id=course-v1%3AAYUk%2BAYUk_EM_01%2B2021_T2', 'http://www.kmooc.kr/api/courses/v1/blocks/?course_id=course-v1%3AAYUk%2BAYUK_IP_0%2B2021_T2_1', 'http://www.kmooc.kr/api/courses/v1/blocks/?course_id=course-v1%3AAYUk%2BAYUK_IP_0%2B2022_T1', 'http://www.kmooc.kr/api/courses/v1/blocks/?course_id=course-v1%3AAYUk%2BAYUK_IP_01%2B2020_T2', 'http://www.kmooc.kr/api/courses/v1/blocks/?course_id=course-v1%3AAYUk%2BFD_AYUk_01%2B2019_T2', 'http://www.kmooc.kr/api/courses/v1/blocks/?course_id=course-v1%3ABDUk%2BBDU01%2B2021_T2', 'http://www.kmooc.kr/api/courses/v1/blocks/?course_id=course-v1%3ABDUk%2BBDU01%2B2022_T1', 'http://www.kmooc.kr/api/courses/v1/blocks/?course_id=course-v1%3ABDUk%2BBDU02%2B2021_T2', 'http://www.kmooc.kr/api/courses/v1/blocks/?course_id=course-v1%3ABDUk%2BBDU02%2B2022_T1', 'http://www.kmooc.kr/api/courses/v1/blocks/?course_id=course-v1%3ABDUk%2BBDU03%2B2018_T1', 'http://www.kmooc.kr/api/courses/v1/blocks/?course_id=course-v1%3ABDUk%2BBDU03%2B2021_T2', 'http://www.kmooc.kr/api/courses/v1/blocks/?course_id=course-v1%3ABDUk%2BBDU03%2B2022_T1', 'http://www.kmooc.kr/api/courses/v1/blocks/?course_id=course-v1%3ABDUk%2BBDU04%2B2021_T2', 'http://www.kmooc.kr/api/courses/v1/blocks/?course_id=course-v1%3ABDUk%2BBDU04%2B2022_T1', 'http://www.kmooc.kr/api/courses/v1/blocks/?course_id=course-v1%3ABDUk%2BBDU05%2B2021_T2', 'http://www.kmooc.kr/api/courses/v1/blocks/?course_id=course-v1%3ABDUk%2BBDU05%2B2022_T1', 'http://www.kmooc.kr/api/courses/v1/blocks/?course_id=course-v1%3ABDUk%2BBDU06%2B2021_T2', 'http://www.kmooc.kr/api/courses/v1/blocks/?course_id=course-v1%3ABDUk%2BBDU06%2B2022_T1', 'http://www.kmooc.kr/api/courses/v1/blocks/?course_id=course-v1%3ABDUk%2BBDU07%2B2021_T2', 'http://www.kmooc.kr/api/courses/v1/blocks/?course_id=course-v1%3ABDUk%2BBDU07%2B2022_T1', 'http://www.kmooc.kr/api/courses/v1/blocks/?course_id=course-v1%3ABDUk%2BBDU08%2B2021_T3', 'http://www.kmooc.kr/api/courses/v1/blocks/?course_id=course-v1%3ABDUk%2BBDU08%2B2022_T1', 'http://www.kmooc.kr/api/courses/v1/blocks/?course_id=course-v1%3ABDUk%2BBDU09%2B2021_T3', 'http://www.kmooc.kr/api/courses/v1/blocks/?course_id=course-v1%3ABDUk%2BBDU09%2B2022_T1', 'http://www.kmooc.kr/api/courses/v1/blocks/?course_id=course-v1%3ABDUk%2BBDU10%2B2021_T1', 'http://www.kmooc.kr/api/courses/v1/blocks/?course_id=course-v1%3ABDUk%2BBDU10%2B2022_T1', 'http://www.kmooc.kr/api/courses/v1/blocks/?course_id=course-v1%3ABDUk%2BBDU11%2B2021_T1', 'http://www.kmooc.kr/api/courses/v1/blocks/?course_id=course-v1%3ABDUk%2BBDU11%2B2022_T1', 'http://www.kmooc.kr/api/courses/v1/blocks/?course_id=course-v1%3ABDUk%2BBDU12%2B2021_T1', 'http://www.kmooc.kr/api/courses/v1/blocks/?course_id=course-v1%3ABDUk%2BBDU12%2B2022_T1', 'http://www.kmooc.kr/api/courses/v1/blocks/?course_id=course-v1%3ABDUk%2BBDU13%2B2021_T1', 'http://www.kmooc.kr/api/courses/v1/blocks/?course_id=course-v1%3ABDUk%2BBDU13%2B2022_T1', 'http://www.kmooc.kr/api/courses/v1/blocks/?course_id=course-v1%3ABDUk%2BBDU14%2B2021_T1', 'http://www.kmooc.kr/api/courses/v1/blocks/?course_id=course-v1%3ABDUk%2BBDU14%2B2022_T1', 'http://www.kmooc.kr/api/courses/v1/blocks/?course_id=course-v1%3ABUFSk%2BBUFSkCOBUFS02%2B2019R1', 'http://www.kmooc.kr/api/courses/v1/blocks/?course_id=course-v1%3ABUFSk%2BBUFS_ICFL01%2B2021_T2', 'http://www.kmooc.kr/api/courses/v1/blocks/?course_id=course-v1%3ABUFSk%2BBUFS_ICFL01%2B2022_T1', 'http://www.kmooc.kr/api/courses/v1/blocks/?course_id=course-v1%3ABUFSk%2BBUFS_ICFL02%2B2021_T2', 'http://www.kmooc.kr/api/courses/v1/blocks/?course_id=course-v1%3ABUFSk%2BBUFS_ICFL02%2B2022_T1', 'http://www.kmooc.kr/api/courses/v1/blocks/?course_id=course-v1%3ABUFSk%2BBUFS_ICFL03%2B2021_T2', 'http://www.kmooc.kr/api/courses/v1/blocks/?course_id=course-v1%3ABUFSk%2BBUFS_ICFL03%2B2022_T1', 'http://www.kmooc.kr/api/courses/v1/blocks/?course_id=course-v1%3ABUFSk%2BBUFS_ICFL04%2B2021_T2', 'http://www.kmooc.kr/api/courses/v1/blocks/?course_id=course-v1%3ABUFSk%2BBUFS_ICFL04%2B2022_T1', 'http://www.kmooc.kr/api/courses/v1/blocks/?course_id=course-v1%3ABUFSk%2BBUFS_ICFL05%2B2021_T2', 'http://www.kmooc.kr/api/courses/v1/blocks/?course_id=course-v1%3ABUFSk%2BBUFS_ICFL05%2B2022_T1', 'http://www.kmooc.kr/api/courses/v1/blocks/?course_id=course-v1%3ABUFSk%2BBUFS_ICFL06%2B2021_T2', 'http://www.kmooc.kr/api/courses/v1/blocks/?course_id=course-v1%3ABUFSk%2BBUFS_ICFL06%2B2022_T1', 'http://www.kmooc.kr/api/courses/v1/blocks/?course_id=course-v1%3ABUFSk%2BBUFS_ICFL07%2B2021_T2', 'http://www.kmooc.kr/api/courses/v1/blocks/?course_id=course-v1%3ABUFSk%2BBUFS_ICFL07%2B2022_T1', 'http://www.kmooc.kr/api/courses/v1/blocks/?course_id=course-v1%3ABUFSk%2BBUFS_ICFL08%2B2021_T2', 'http://www.kmooc.kr/api/courses/v1/blocks/?course_id=course-v1%3ABUFSk%2BBUFS_ICFL08%2B2022_T1', 'http://www.kmooc.kr/api/courses/v1/blocks/?course_id=course-v1%3ABUFSk%2BBUFS_ICFL09%2B2021_T2', 'http://www.kmooc.kr/api/courses/v1/blocks/?course_id=course-v1%3ABUFSk%2BBUFS_ICFL09%2B2022_T1', 'http://www.kmooc.kr/api/courses/v1/blocks/?course_id=course-v1%3ABUFSk%2BCK.BUFS01%2B2016_JAPAN1', 'http://www.kmooc.kr/api/courses/v1/blocks/?course_id=course-v1%3ABUFSk%2BCOBUFS03%2B2019CM1', 'http://www.kmooc.kr/api/courses/v1/blocks/?course_id=course-v1%3ABUFSk%2BCORE_BUFS01%2B2018_C1', 'http://www.kmooc.kr/api/courses/v1/blocks/?course_id=course-v1%3ABUFSk%2BKOCW_BUFS01%2B2018_HR1', 'http://www.kmooc.kr/api/courses/v1/blocks/?course_id=course-v1%3ABUK%2BBUK001%2B2021_T2_02', 'http://www.kmooc.kr/api/courses/v1/blocks/?course_id=course-v1%3ABUK%2BBUK002%2B2021_T2_01', 'http://www.kmooc.kr/api/courses/v1/blocks/?course_id=course-v1%3ABUK%2BBUK002%2B2022_T1_01', 'http://www.kmooc.kr/api/courses/v1/blocks/?course_id=course-v1%3ABUK%2BBUK003%2B2021_T2_01', 'http://www.kmooc.kr/api/courses/v1/blocks/?course_id=course-v1%3ABUK%2BBUK003%2B2022_T1_01', 'http://www.kmooc.kr/api/courses/v1/blocks/?course_id=course-v1%3ABUK%2BBUK004%2B2021_T2_01', 'http://www.kmooc.kr/api/courses/v1/blocks/?course_id=course-v1%3ABUK%2BBUK005%2B2021_T2_01', 'http://www.kmooc.kr/api/courses/v1/blocks/?course_id=course-v1%3ABUK%2BBUK006%2B2021_T2_01', 'http://www.kmooc.kr/api/courses/v1/blocks/?course_id=course-v1%3ABUK%2BBUK007%2B2021_T2_01', 'http://www.kmooc.kr/api/courses/v1/blocks/?course_id=course-v1%3ACAUk%2BACE_CAU01%2B2020_1', 'http://www.kmooc.kr/api/courses/v1/blocks/?course_id=course-v1%3ACAUk%2BACE_CAU02_01%2B2020_1', 'http://www.kmooc.kr/api/courses/v1/blocks/?course_id=course-v1%3ACAUk%2BACE_CAU02_02%2B2020_1', 'http://www.kmooc.kr/api/courses/v1/blocks/?course_id=course-v1%3ACAUk%2BCAU01K%2B2021_1', 'http://www.kmooc.kr/api/courses/v1/blocks/?course_id=course-v1%3ACAUk%2BCAU02K%2B2021_1', 'http://www.kmooc.kr/api/courses/v1/blocks/?course_id=course-v1%3ACAUk%2BCAU05K%2B2021_1', 'http://www.kmooc.kr/api/courses/v1/blocks/?course_id=course-v1%3ACAUk%2BCAU06K%2B2021_1', 'http://www.kmooc.kr/api/courses/v1/blocks/?course_id=course-v1%3ACAUk%2BCAU07K%2B2021_1', 'http://www.kmooc.kr/api/courses/v1/blocks/?course_id=course-v1%3ACAUk%2BCAU08K%2B2021_2', 'http://www.kmooc.kr/api/courses/v1/blocks/?course_id=course-v1%3ACAUk%2BCAU09K%2B2021_2', 'http://www.kmooc.kr/api/courses/v1/blocks/?course_id=course-v1%3ACAUk%2BCAU10K%2B2021_2', 'http://www.kmooc.kr/api/courses/v1/blocks/?course_id=course-v1%3ACAUk%2BCAU12K%2B2021_2', 'http://www.kmooc.kr/api/courses/v1/blocks/?course_id=course-v1%3ACAUk%2BCAU12K%2B2022_1', 'http://www.kmooc.kr/api/courses/v1/blocks/?course_id=course-v1%3ACAUk%2BCAU13K%2B2021_1', 'http://www.kmooc.kr/api/courses/v1/blocks/?course_id=course-v1%3ACAUk%2BCAU14K%2B2021_1', 'http://www.kmooc.kr/api/courses/v1/blocks/?course_id=course-v1%3ACAUk%2BCAU15K%2B2021_1', 'http://www.kmooc.kr/api/courses/v1/blocks/?course_id=course-v1%3ACAUk%2BCAU16K%2B2021_1', 'http://www.kmooc.kr/api/courses/v1/blocks/?course_id=course-v1%3ACAUk%2BCAU_11K%2B2021_2', 'http://www.kmooc.kr/api/courses/v1/blocks/?course_id=course-v1%3ACAUk%2BCAU_11K%2B2022_1', 'http://www.kmooc.kr/api/courses/v1/blocks/?course_id=course-v1%3ACAUk%2BCAU_A01%2B2021_2', 'http://www.kmooc.kr/api/courses/v1/blocks/?course_id=course-v1%3ACAUk%2BCAU_A01%2B2022_1', 'http://www.kmooc.kr/api/courses/v1/blocks/?course_id=course-v1%3ACAUk%2BCAU_A02%2B2021_2', 'http://www.kmooc.kr/api/courses/v1/blocks/?course_id=course-v1%3ACAUk%2BCAU_A02%2B2022_1', 'http://www.kmooc.kr/api/courses/v1/blocks/?course_id=course-v1%3ACAUk%2BCAU_A04%2B2021_2', 'http://www.kmooc.kr/api/courses/v1/blocks/?course_id=course-v1%3ACAUk%2BCAU_A04%2B2022_1', 'http://www.kmooc.kr/api/courses/v1/blocks/?course_id=course-v1%3ACAUk%2BCAU_AI03%2B2021_2', 'http://www.kmooc.kr/api/courses/v1/blocks/?course_id=course-v1%3ACAUk%2BCAU_AI03%2B2022_1', 'http://www.kmooc.kr/api/courses/v1/blocks/?course_id=course-v1%3ACAUk%2BCAU_micro01%2B2021_2', 'http://www.kmooc.kr/api/courses/v1/blocks/?course_id=course-v1%3ACAUk%2BCAU_micro01%2B2022-1', 'http://www.kmooc.kr/api/courses/v1/blocks/?course_id=course-v1%3ACAUk%2BCAU_micro01%2B2022_1', 'http://www.kmooc.kr/api/courses/v1/blocks/?course_id=course-v1%3ACAUk%2BCAU_micro02%2B2022_1', 'http://www.kmooc.kr/api/courses/v1/blocks/?course_id=course-v1%3ACAUk%2BCAU_micro02%2BCAU_micro03', 'http://www.kmooc.kr/api/courses/v1/blocks/?course_id=course-v1%3ACAUk%2BFD_CAU03K%2B2021_1', 'http://www.kmooc.kr/api/courses/v1/blocks/?course_id=course-v1%3ACAUk%2BFD_CAU04K%2B2021_1', 'http://www.kmooc.kr/api/courses/v1/blocks/?course_id=course-v1%3ACBNUk%2BCBNU01k%2B2020_2', 'http://www.kmooc.kr/api/courses/v1/blocks/?course_id=course-v1%3ACBNUk%2BCBNU02k%2B2020_2', 'http://www.kmooc.kr/api/courses/v1/blocks/?course_id=course-v1%3ACBNUk%2BCBNU03k%2B2020_2', 'http://www.kmooc.kr/api/courses/v1/blocks/?course_id=course-v1%3ACBNUk%2BCBNU04k%2B2020_2', 'http://www.kmooc.kr/api/courses/v1/blocks/?course_id=course-v1%3ACBNUk%2BCBNU05k%2B2020_2', 'http://www.kmooc.kr/api/courses/v1/blocks/?course_id=course-v1%3ACBNUk%2BCBNU06k%2B2020_2', 'http://www.kmooc.kr/api/courses/v1/blocks/?course_id=course-v1%3ACBNUk%2BCBNU07k%2B2020_2', 'http://www.kmooc.kr/api/courses/v1/blocks/?course_id=course-v1%3ACBNUk%2BCBNU08k%2B2020_2', 'http://www.kmooc.kr/api/courses/v1/blocks/?course_id=course-v1%3ACBNUk%2BCBNU09k%2B2020_2', 'http://www.kmooc.kr/api/courses/v1/blocks/?course_id=course-v1%3ACBNUk%2BCBNU10k%2B2020_2', 'http://www.kmooc.kr/api/courses/v1/blocks/?course_id=course-v1%3ACBNUk%2BCBNU11k%2B2020_2', 'http://www.kmooc.kr/api/courses/v1/blocks/?course_id=course-v1%3ACBNUk%2BCBNU12k%2B2020_2', 'http://www.kmooc.kr/api/courses/v1/blocks/?course_id=course-v1%3ACBNUk%2BCBNUKF_01%2B2020_T1', 'http://www.kmooc.kr/api/courses/v1/blocks/?course_id=course-v1%3ACCHS%2BCCHS01%2B2021_01', 'http://www.kmooc.kr/api/courses/v1/blocks/?course_id=course-v1%3ACCHS%2BCCHS01%2B2021_02', 'http://www.kmooc.kr/api/courses/v1/blocks/?course_id=course-v1%3AChosunK%2BACE_Chosun01K%2B2020_2', 'http://www.kmooc.kr/api/courses/v1/blocks/?course_id=course-v1%3AChosunK%2BChosun02K%2B2020_2', 'http://www.kmooc.kr/api/courses/v1/blocks/?course_id=course-v1%3AChosunK%2BChosun03K%2B2021_2', 'http://www.kmooc.kr/api/courses/v1/blocks/?course_id=course-v1%3AChosunK%2BChosun03K%2B2022_1', 'http://www.kmooc.kr/api/courses/v1/blocks/?course_id=course-v1%3AChosunK%2BChosun04K%2B2021_2', 'http://www.kmooc.kr/api/courses/v1/blocks/?course_id=course-v1%3AChosunK%2BChosun04K%2B2022_1', 'http://www.kmooc.kr/api/courses/v1/blocks/?course_id=course-v1%3AChosunK%2BChosun05K%2B2021_2', 'http://www.kmooc.kr/api/courses/v1/blocks/?course_id=course-v1%3AChosunK%2BChosun05K%2B2022_1', 'http://www.kmooc.kr/api/courses/v1/blocks/?course_id=course-v1%3AChosunK%2BChosun06K%2B2020_T2', 'http://www.kmooc.kr/api/courses/v1/blocks/?course_id=course-v1%3AChosunK%2BChosun06K%2B2021_2', 'http://www.kmooc.kr/api/courses/v1/blocks/?course_id=course-v1%3AChosunK%2BChosun06K%2B2022_1', 'http://www.kmooc.kr/api/courses/v1/blocks/?course_id=course-v1%3AChosunK%2BChosun07K%2B2020_T2', 'http://www.kmooc.kr/api/courses/v1/blocks/?course_id=course-v1%3AChosunK%2BChosun07K%2B2021_2', 'http://www.kmooc.kr/api/courses/v1/blocks/?course_id=course-v1%3AChosunK%2BChosun07K%2B2022_1', 'http://www.kmooc.kr/api/courses/v1/blocks/?course_id=course-v1%3AChosunK%2BChosun08K%2B2021_2', 'http://www.kmooc.kr/api/courses/v1/blocks/?course_id=course-v1%3AChosunK%2BChosun08K%2B2022_1', 'http://www.kmooc.kr/api/courses/v1/blocks/?course_id=course-v1%3AChosunK%2BChosun09K%2B2021_2', 'http://www.kmooc.kr/api/courses/v1/blocks/?course_id=course-v1%3AChosunK%2BChosun09K%2B2022_1', 'http://www.kmooc.kr/api/courses/v1/blocks/?course_id=course-v1%3AChosunK%2BChosun10K%2B2021_2', 'http://www.kmooc.kr/api/courses/v1/blocks/?course_id=course-v1%3AChosunK%2BChosun10K%2B2022_1', 'http://www.kmooc.kr/api/courses/v1/blocks/?course_id=course-v1%3AChosunK%2BChosun11K%2B2021_T2', 'http://www.kmooc.kr/api/courses/v1/blocks/?course_id=course-v1%3AChosunK%2BChosun12K%2B2021_T2', 'http://www.kmooc.kr/api/courses/v1/blocks/?course_id=course-v1%3AChosunK%2BChosun13K%2B2021_T2', 'http://www.kmooc.kr/api/courses/v1/blocks/?course_id=course-v1%3AChosunK%2BChosun14K%2B2021_T2', 'http://www.kmooc.kr/api/courses/v1/blocks/?course_id=course-v1%3AChosunK%2BChosun15K%2B2021_T2', 'http://www.kmooc.kr/api/courses/v1/blocks/?course_id=course-v1%3AChosunK%2BChosun16K%2B2021_T2', 'http://www.kmooc.kr/api/courses/v1/blocks/?course_id=course-v1%3AChungbukK%2BChungbuk_03%2B2019_06', 'http://www.kmooc.kr/api/courses/v1/blocks/?course_id=course-v1%3AChungbukK%2BChungbuk_03%2B2021_09', 'http://www.kmooc.kr/api/courses/v1/blocks/?course_id=course-v1%3AChungbukK%2BChungbuk_03%2B2022_01', 'http://www.kmooc.kr/api/courses/v1/blocks/?course_id=course-v1%3AChungbukK%2BChungbuk_04%2B2021_10', 'http://www.kmooc.kr/api/courses/v1/blocks/?course_id=course-v1%3AChungbukK%2BChungbuk_04%2B2022_01', 'http://www.kmooc.kr/api/courses/v1/blocks/?course_id=course-v1%3AChungbukK%2BChungbuk_05%2B2021_11', 'http://www.kmooc.kr/api/courses/v1/blocks/?course_id=course-v1%3AChungbukK%2BChungbuk_05%2B2022_01', 'http://www.kmooc.kr/api/courses/v1/blocks/?course_id=course-v1%3AChungbukK%2BChungbuk_06%2B2021_12', 'http://www.kmooc.kr/api/courses/v1/blocks/?course_id=course-v1%3AChungbukK%2BChungbuk_06%2B2022_01', 'http://www.kmooc.kr/api/courses/v1/blocks/?course_id=course-v1%3AChungbukK%2BChungbuk_07%2B2021_13', 'http://www.kmooc.kr/api/courses/v1/blocks/?course_id=course-v1%3AChungbukK%2BChungbuk_07%2B2022_01', 'http://www.kmooc.kr/api/courses/v1/blocks/?course_id=course-v1%3AChungbukK%2BChungbuk_08%2B2021_14', 'http://www.kmooc.kr/api/courses/v1/blocks/?course_id=course-v1%3AChungbukK%2BChungbuk_09%2B2021_15', 'http://www.kmooc.kr/api/courses/v1/blocks/?course_id=course-v1%3AChungbukK%2BCK_Chungbuk_01%2B2021_07', 'http://www.kmooc.kr/api/courses/v1/blocks/?course_id=course-v1%3AChungbukK%2BCK_Chungbuk_01%2B2022_01', 'http://www.kmooc.kr/api/courses/v1/blocks/?course_id=course-v1%3AChungbukK%2BCK_Chungbuk_02%2B2021_08', 'http://www.kmooc.kr/api/courses/v1/blocks/?course_id=course-v1%3AChungbukK%2BCK_Chungbuk_02%2B2022_01', 'http://www.kmooc.kr/api/courses/v1/blocks/?course_id=course-v1%3ACKUk%2BCORE_CKU01k%2B2019_T1', 'http://www.kmooc.kr/api/courses/v1/blocks/?course_id=course-v1%3ACKUk%2BCORE_CKU02k%2B2020_T1', 'http://www.kmooc.kr/api/courses/v1/blocks/?course_id=course-v1%3ACKUk%2BCORE_CKU03k%2B2020_T1', 'http://www.kmooc.kr/api/courses/v1/blocks/?course_id=course-v1%3ACNUk%2BACE_CNU01%2B2020_3_01', 'http://www.kmooc.kr/api/courses/v1/blocks/?course_id=course-v1%3ACNUk%2BACE_CNU01%2B2021_2_01', 'http://www.kmooc.kr/api/courses/v1/blocks/?course_id=course-v1%3ACNUk%2BACE_CNU01%2B2022_1_01', 'http://www.kmooc.kr/api/courses/v1/blocks/?course_id=course-v1%3ACNUk%2BACE_CNU02%2B2020_1_02', 'http://www.kmooc.kr/api/courses/v1/blocks/?course_id=course-v1%3ACNUk%2BACE_CNU05%2B2021_2_05', 'http://www.kmooc.kr/api/courses/v1/blocks/?course_id=course-v1%3ACNUk%2BACE_CNU05%2B2022_1_05', 'http://www.kmooc.kr/api/courses/v1/blocks/?course_id=course-v1%3ACNUk%2BACE_CNU06%2B2021_2_06', 'http://www.kmooc.kr/api/courses/v1/blocks/?course_id=course-v1%3ACNUk%2BACE_CNU06%2B2022_1_06', 'http://www.kmooc.kr/api/courses/v1/blocks/?course_id=course-v1%3ACNUk%2BCORE_CNU03%2B2021_2_03', 'http://www.kmooc.kr/api/courses/v1/blocks/?course_id=course-v1%3ACNUk%2BCORE_CNU03%2B2022_1_03', 'http://www.kmooc.kr/api/courses/v1/blocks/?course_id=course-v1%3ACNUk%2BCORE_CNU04%2B2021_2_04', 'http://www.kmooc.kr/api/courses/v1/blocks/?course_id=course-v1%3ACNUk%2BCORE_CNU04%2B2022_1_04', 'http://www.kmooc.kr/api/courses/v1/blocks/?course_id=course-v1%3ACNUk%2BMOE_CNU07%2B2021_2_07', 'http://www.kmooc.kr/api/courses/v1/blocks/?course_id=course-v1%3ACNUk%2BMOE_CNU07%2B2022_1_07', 'http://www.kmooc.kr/api/courses/v1/blocks/?course_id=course-v1%3ACNUk%2BMOE_CNU08%2B2021_2_08', 'http://www.kmooc.kr/api/courses/v1/blocks/?course_id=course-v1%3ACNUk%2BMOE_CNU08%2B2022_1_08', 'http://www.kmooc.kr/api/courses/v1/blocks/?course_id=course-v1%3ACNUk%2BMOE_CNU09%2B2021_2_09', 'http://www.kmooc.kr/api/courses/v1/blocks/?course_id=course-v1%3ACNUk%2BMOE_CNU09%2B2022_1_09', 'http://www.kmooc.kr/api/courses/v1/blocks/?course_id=course-v1%3ACNUk%2BMOE_CNU10%2B2021_2_10', 'http://www.kmooc.kr/api/courses/v1/blocks/?course_id=course-v1%3ACNUk%2BMOE_CNU10%2B2022_1_10', 'http://www.kmooc.kr/api/courses/v1/blocks/?course_id=course-v1%3ACNUk%2BMOE_CNU11%2B2021_2_11', 'http://www.kmooc.kr/api/courses/v1/blocks/?course_id=course-v1%3ACNUk%2BMOE_CNU11%2B2022_1_11', 'http://www.kmooc.kr/api/courses/v1/blocks/?course_id=course-v1%3ACNUk%2BMOE_CNU12%2B2021_2_12', 'http://www.kmooc.kr/api/courses/v1/blocks/?course_id=course-v1%3ACNUk%2BMOE_CNU12%2B2022_1_12', 'http://www.kmooc.kr/api/courses/v1/blocks/?course_id=course-v1%3ACNUk%2BMOE_CNU13%2B2021_2_13', 'http://www.kmooc.kr/api/courses/v1/blocks/?course_id=course-v1%3ACNUk%2BMOE_CNU13%2B2022_1_13', 'http://www.kmooc.kr/api/courses/v1/blocks/?course_id=course-v1%3ACNUk%2BMOE_CNU14%2B2021_2_14', 'http://www.kmooc.kr/api/courses/v1/blocks/?course_id=course-v1%3ACNUk%2BMOE_CNU14%2B2022_1_14', 'http://www.kmooc.kr/api/courses/v1/blocks/?course_id=course-v1%3ACUFS%2BCUFS01%2B2020_2', 'http://www.kmooc.kr/api/courses/v1/blocks/?course_id=course-v1%3ACUFS%2BCUFS02%2B2021-2_C2', 'http://www.kmooc.kr/api/courses/v1/blocks/?course_id=course-v1%3ACUFS%2BCUFS03%2B2021-2_C3', 'http://www.kmooc.kr/api/courses/v1/blocks/?course_id=course-v1%3ACUFS%2BCUFS04%2B2021-2_C4']\n"
          ]
        }
      ]
    },
    {
      "cell_type": "code",
      "source": [
        "class IMDF:\n",
        "  def __init__(self, data):\n",
        "    self.head = data\n",
        "\n",
        "  def head_reference(self):\n",
        "    return data[0]['name']"
      ],
      "metadata": {
        "id": "sjFSrcEN2gCJ"
      },
      "execution_count": null,
      "outputs": []
    },
    {
      "cell_type": "code",
      "source": [
        "class LDM:\n",
        "  def __init__(self,data,id, name, blocks_url,next=None):\n",
        "    self.data = data # 각 강좌별 데이터\n",
        "    self.id = id # 강좌 아이디\n",
        "    self.name = name # 강좌명\n",
        "    self.blocks_url = blocks_url # 강좌 url\n",
        "    self.next = next"
      ],
      "metadata": {
        "id": "iZnihUlDmfV1"
      },
      "execution_count": null,
      "outputs": []
    },
    {
      "cell_type": "code",
      "source": [
        "# 링크드 리스트 만들기\n",
        "def init_list():\n",
        "  global node_A\n",
        "  node_A = LDM(1,id[0],name[0],blocks_url[0])\n",
        "  node_B = LDM(2,id[1],name[1],blocks_url[1])\n",
        "  node_C = LDM(3,id[2],name[2],blocks_url[2])\n",
        "  node_D = LDM(4,id[3],name[3],blocks_url[3])\n",
        "  node_A.next = node_B\n",
        "  node_B.next = node_C\n",
        "  node_C.next = node_D\n",
        "\n",
        "def print_list():\n",
        "  global node_A\n",
        "  node = node_A\n",
        "  while node:\n",
        "    print(node.data)\n",
        "    print(node.id)\n",
        "    print(node.name)\n",
        "    print(node.blocks_url)\n",
        "    node = node.next\n",
        "  print\n",
        "\n",
        "def store_lecture_from_json(self):\n",
        "  self.data = IMDF(data)\n",
        "\n",
        "def loads(self, filename):\n",
        "  pass\n",
        "\n",
        "def search(self, name, target):\n",
        "  results = []\n",
        "  curNode = self.items.pHead\n",
        "  while curNode is not None:\n",
        "    if curNode.name == target:\n",
        "      results.append(curNode)\n",
        "    curNode = curNode.next\n",
        "\n",
        "def delete(self, name, target):\n",
        "  deleted = list()  #삭제할 내용을 list로 저장\n",
        "  curNode = self.items.pHead\n",
        "  prevNode = None\n",
        "  while curNode is not None:\n",
        "    if curNode.name == target:\n",
        "      self.items.size -= 1\n",
        "      if curNode is self.items.pHead:\n",
        "        self.items.pHead = curNode.next\n",
        "      else:\n",
        "        prevNode.next = curNode.next\n",
        "\n",
        "    prevNode = curNode    #다음노드로 이동\n",
        "    curNode = curNode.next"
      ],
      "metadata": {
        "id": "Adjkwr9MFmLh"
      },
      "execution_count": null,
      "outputs": []
    },
    {
      "cell_type": "code",
      "source": [
        "if __name__ == '__main__':\n",
        "  init_list()\n",
        "  print_list()"
      ],
      "metadata": {
        "colab": {
          "base_uri": "https://localhost:8080/"
        },
        "id": "liUQaAm4FqD2",
        "outputId": "6f11a480-53e8-4552-f404-b16ae804806d"
      },
      "execution_count": null,
      "outputs": [
        {
          "output_type": "stream",
          "name": "stdout",
          "text": [
            "1\n",
            "course-v1:ANU+ANU01+2020_T3\n",
            "정보통신 보안\n",
            "http://www.kmooc.kr/api/courses/v1/blocks/?course_id=course-v1%3AANU%2BANU01%2B2020_T3\n",
            "2\n",
            "course-v1:ANU+ANU2021+2021_T01\n",
            "신화와 폭력\n",
            "http://www.kmooc.kr/api/courses/v1/blocks/?course_id=course-v1%3AANU%2BANU2021%2B2021_T01\n",
            "3\n",
            "course-v1:ANU+anu_01+2019_T1_2\n",
            "우리말 형태론\n",
            "http://www.kmooc.kr/api/courses/v1/blocks/?course_id=course-v1%3AANU%2Banu_01%2B2019_T1_2\n",
            "4\n",
            "course-v1:ARKO+ARKOCD01+2021-T1\n",
            "문화다양성 전문인력 양성 기본과정\n",
            "http://www.kmooc.kr/api/courses/v1/blocks/?course_id=course-v1%3AARKO%2BARKOCD01%2B2021-T1\n"
          ]
        }
      ]
    },
    {
      "cell_type": "code",
      "source": [
        "class LR:\n",
        "  def __init__(self):\n",
        "    pass"
      ],
      "metadata": {
        "id": "xpdRUnph3E7J"
      },
      "execution_count": null,
      "outputs": []
    },
    {
      "cell_type": "code",
      "source": [
        "class PM:\n",
        "  def __init__(self):\n",
        "    pass"
      ],
      "metadata": {
        "id": "8PDHhcx6IS3b"
      },
      "execution_count": null,
      "outputs": []
    }
  ]
}